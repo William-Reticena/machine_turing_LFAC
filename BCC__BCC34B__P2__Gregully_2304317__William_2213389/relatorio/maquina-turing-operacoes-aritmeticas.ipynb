{
  "cells": [
    {
      "cell_type": "markdown",
      "metadata": {
        "id": "fFwyaeKBSxUK"
      },
      "source": [
        "\n",
        "# Tutorial Iterativo em Jupyter sobre Máquinas de Turing para Operações Aritméticas\n",
        "\n",
        "<img src=\"./figuras/banner-lfac.png\" alt=\"Banner\" width=\"40%\"/>\n",
        "\n",
        "\n",
        "Gregully Willian e William Reticena\n",
        "\n",
        "e-mails: [gregullywillian@alunos.utfpr.edu.br](mailto:gregullywillian@alunos.utfpr.edu.br), [williamreticena@alunos.utfpr.edu.br](mailto:williamreticena@alunos.utfpr.edu.br)\n",
        "\n",
        "Universidade Tecnológica Federal do Paraná (UTFPR)\n",
        "\n",
        "Departamento Acadêmico de Computação (DACOM-CM)\n",
        "\n",
        "Curso de Bacharelado em Ciência da Computação.\n",
        "\n",
        "## Resumo\n",
        "\n",
        "Este trabalho tem como tema principal, conceitos de uma máquina de Turing. Estes conceitos são abordados com uma explicação do tema em questão e junto a ele, alguns exemplos para o seu melhor entendimento. É detalhado também, as ferramentas e bibliotecas utilizadas para a construção dos exemplos.\n"
      ]
    },
    {
      "cell_type": "markdown",
      "metadata": {
        "id": "O3gF69-Mofsf"
      },
      "source": [
        "## Introdução\n",
        "\n",
        "Este trabalho tem como objetivo implementar quatro Máquinas de Turing, cada uma realizando uma operação aritmética básica, as operações necessárias que este projeto solicitava eram de adição, subtração, divisão e múltiplicação. Para a construção deste autômato, foi utilizada a linguagem de programação Python, e junto dela, uma biblioteca que trabalha com vários tipos de automatos, denominada de automata-lib. Foram usados alguns diagramas de estado, construídos com a ferramenta JFLAP para o auxilio da construção do mesmo.\n",
        "\n"
      ]
    },
    {
      "cell_type": "markdown",
      "metadata": {},
      "source": [
        "# Máquinas de Turing\n",
        "\n",
        "O conceito de máquina de Turing é semelhante ao de uma fórmula ou equação. Assim, há uma\n",
        "infinidade de possíveis máquinas de Turing, cada uma correspondendo a um método definido ou\n",
        "algoritmo. Uma máquina de Turing pode fazer tudo que um computador de propósito geral faz, contudo, ainda vai possuir algumas limitações. Uma máquina de Turing utiliza uma fita como memória, sendo essa fita infinita. A cabeça de fita pode ler e escrever símbolos sobre ela e movimentar-se.\n",
        "A fita encontra-se com uma entrada (programa) e possui todo o restante em branco, se a máquina precisar armazenar informações, ela o pode fazer ao escrever sobre a fita, enquanto para ler uma informação basta mover a cabeça para a posição onde se encontra a informação."
      ]
    },
    {
      "cell_type": "markdown",
      "metadata": {
        "id": "NsOC5oUKDg1e"
      },
      "source": [
        "## Preparação do Ambiente\n",
        "\n",
        "Falar sobre a preparação do ambiente para executar os exemplos, quais bibliotecas são necessárias. O texto seguinte é apenas um exemplo sobre Compiladores.\n",
        "\n",
        "\n",
        "A biblioteca que auxiliam na implementação de Máquinas de Estados e Autômatos, como [automata-lib](https://pypi.org/project/automata-lib/).\n",
        "\n"
      ]
    },
    {
      "cell_type": "code",
      "execution_count": null,
      "metadata": {
        "colab": {
          "base_uri": "https://localhost:8080/"
        },
        "id": "E0h4dKQPKZ-k",
        "outputId": "7642c694-1722-4c0f-bbad-a8b7e5752c93"
      },
      "outputs": [
        {
          "name": "stdout",
          "output_type": "stream",
          "text": [
            "Collecting ply\n",
            "\u001b[?25l  Downloading https://files.pythonhosted.org/packages/a3/58/35da89ee790598a0700ea49b2a66594140f44dec458c07e8e3d4979137fc/ply-3.11-py2.py3-none-any.whl (49kB)\n",
            "\r\u001b[K     |██████▋                         | 10kB 15.6MB/s eta 0:00:01\r\u001b[K     |█████████████▏                  | 20kB 18.1MB/s eta 0:00:01\r\u001b[K     |███████████████████▉            | 30kB 14.8MB/s eta 0:00:01\r\u001b[K     |██████████████████████████▍     | 40kB 13.5MB/s eta 0:00:01\r\u001b[K     |████████████████████████████████| 51kB 3.9MB/s \n",
            "\u001b[?25hInstalling collected packages: ply\n",
            "Successfully installed ply-3.11\n"
          ]
        }
      ],
      "source": [
        "!pip install ply"
      ]
    },
    {
      "cell_type": "code",
      "execution_count": 2,
      "metadata": {
        "colab": {
          "base_uri": "https://localhost:8080/"
        },
        "id": "gUZZ5OVZKnNg",
        "outputId": "726f2d5b-1acd-487b-d201-e6cacadf4287"
      },
      "outputs": [
        {
          "name": "stdout",
          "output_type": "stream",
          "text": [
            "Defaulting to user installation because normal site-packages is not writeable\n",
            "Requirement already satisfied: automata-lib in /var/data/python/lib/python3.9/site-packages (5.0.0)\n",
            "Requirement already satisfied: pydot in /var/data/python/lib/python3.9/site-packages (from automata-lib) (1.4.2)\n",
            "Requirement already satisfied: pyparsing>=2.1.4 in /var/data/python/lib/python3.9/site-packages (from pydot->automata-lib) (3.0.9)\n"
          ]
        }
      ],
      "source": [
        "!pip3 install automata-lib"
      ]
    },
    {
      "cell_type": "code",
      "execution_count": null,
      "metadata": {
        "colab": {
          "base_uri": "https://localhost:8080/"
        },
        "id": "FuQI4_KPKzBy",
        "outputId": "17cbf71b-0c4e-4973-a9ae-c9a51ab320c4"
      },
      "outputs": [
        {
          "name": "stdout",
          "output_type": "stream",
          "text": [
            "Requirement already satisfied: graphviz in /usr/local/lib/python3.7/dist-packages (0.10.1)\n"
          ]
        }
      ],
      "source": [
        "!pip install graphviz"
      ]
    },
    {
      "cell_type": "code",
      "execution_count": null,
      "metadata": {
        "colab": {
          "base_uri": "https://localhost:8080/"
        },
        "id": "255VdRiLKrdG",
        "outputId": "5d4136a7-587b-4655-b024-d5e90ab36073"
      },
      "outputs": [
        {
          "name": "stdout",
          "output_type": "stream",
          "text": [
            "Requirement already satisfied: llvmlite in /usr/local/lib/python3.7/dist-packages (0.34.0)\n"
          ]
        }
      ],
      "source": [
        "!pip install llvmlite"
      ]
    },
    {
      "cell_type": "markdown",
      "metadata": {
        "id": "EHKowkgSVUi5"
      },
      "source": [
        "__Instalação de alguns _plugins_ para o Jupyter:__"
      ]
    },
    {
      "cell_type": "code",
      "execution_count": null,
      "metadata": {
        "colab": {
          "base_uri": "https://localhost:8080/"
        },
        "id": "DisvxsM3U9zq",
        "outputId": "b4302df8-fe7a-4740-e50a-9338be42481a"
      },
      "outputs": [
        {
          "name": "stdout",
          "output_type": "stream",
          "text": [
            "Downloading: https://rawgit.com/jfbercher/small_nbextensions/master/highlighter.zip -> /tmp/tmpRHcqzB/highlighter.zip\n",
            "Extracting: /tmp/tmpRHcqzB/highlighter.zip -> /root/.local/share/jupyter/nbextensions\n",
            "Enabling notebook extension highlighter/highlighter...\n",
            "      - Validating: \u001b[32mOK\u001b[0m\n"
          ]
        }
      ],
      "source": [
        "!jupyter nbextension install https://rawgit.com/jfbercher/small_nbextensions/master/highlighter.zip  --user\n",
        "!jupyter nbextension enable highlighter/highlighter"
      ]
    },
    {
      "cell_type": "code",
      "execution_count": null,
      "metadata": {
        "colab": {
          "base_uri": "https://localhost:8080/",
          "height": 17
        },
        "id": "a-s-dVnxdbZW",
        "outputId": "b62643b8-22fb-46cf-d278-dc14c7a9af80"
      },
      "outputs": [
        {
          "data": {
            "application/javascript": "require(\"base/js/utils\").load_extensions(\"highlighter/highlighter\")",
            "text/plain": [
              "<IPython.core.display.Javascript object>"
            ]
          },
          "metadata": {
            "tags": []
          },
          "output_type": "display_data"
        }
      ],
      "source": [
        "%%javascript\n",
        "require(\"base/js/utils\").load_extensions(\"highlighter/highlighter\")"
      ]
    },
    {
      "cell_type": "markdown",
      "metadata": {},
      "source": [
        "# Operações Aritméticas\n",
        "\n",
        "Colocar um Texto Explicativo..."
      ]
    },
    {
      "cell_type": "markdown",
      "metadata": {},
      "source": [
        "## Adição\n",
        "\n",
        "Temos o seguinte autômato implementado no JFLAP para a resolução da operação de adição:"
      ]
    },
    {
      "cell_type": "markdown",
      "metadata": {},
      "source": [
        "![Adição](figuras/Adição.png)"
      ]
    },
    {
      "cell_type": "markdown",
      "metadata": {},
      "source": [
        "Para que seja possível executar a operação com tal máquina, temos que a fita deve estar no seguinte formato: \"#E+E#\", a máquina deve receber inicialmente o símbolo #, a partir deste ela irá ler várias sequências de E antes da entrada +, com isso basta ler os caracteres E seguintes e ir fazendo a soma destes, por fim, quando a máquina ler o símmbolo # a operação é encerrada."
      ]
    },
    {
      "cell_type": "markdown",
      "metadata": {},
      "source": [
        "Implementando o autômato em python temos o seguinte código:"
      ]
    },
    {
      "cell_type": "code",
      "execution_count": 25,
      "metadata": {},
      "outputs": [],
      "source": [
        "from automata.tm.dtm import DTM\n",
        "\n",
        "dtm_add = DTM(\n",
        "  states={\"q0\", \"q1\", \"q2\", \"q3\", \"ha\"},\n",
        "  input_symbols={\"E\", \"+\"},\n",
        "  tape_symbols={\"E\", \"#\", \"+\"},\n",
        "  transitions={\n",
        "    \"q0\": {\n",
        "      \"#\": (\"q1\", \"#\", \"R\")\n",
        "    },\n",
        "    \"q1\": {\n",
        "      \"E\": (\"q1\", \"E\", \"R\"),\n",
        "      \"+\": (\"q2\", \"E\", \"R\")\n",
        "    },\n",
        "    \"q2\": {\n",
        "      \"E\": (\"q2\", \"E\", \"R\"),\n",
        "      \"#\": (\"q3\", \"#\", \"L\")\n",
        "    },\n",
        "    \"q3\": {\n",
        "      \"E\": (\"ha\", \"#\", \"N\")\n",
        "    }\n",
        "  },\n",
        "  initial_state=\"q0\",\n",
        "  blank_symbol=\"#\",\n",
        "  final_states={\"ha\"}\n",
        ")"
      ]
    },
    {
      "cell_type": "markdown",
      "metadata": {},
      "source": [
        "Função de Validação para verificar se a especificação está correta."
      ]
    },
    {
      "cell_type": "code",
      "execution_count": 2,
      "metadata": {},
      "outputs": [
        {
          "data": {
            "text/plain": [
              "True"
            ]
          },
          "execution_count": 2,
          "metadata": {},
          "output_type": "execute_result"
        }
      ],
      "source": [
        "dtm_add.validate()  # returns True"
      ]
    },
    {
      "cell_type": "code",
      "execution_count": 23,
      "metadata": {},
      "outputs": [
        {
          "data": {
            "text/plain": [
              "<generator object DTM.read_input_stepwise at 0x0000012FB87A1850>"
            ]
          },
          "execution_count": 23,
          "metadata": {},
          "output_type": "execute_result"
        }
      ],
      "source": [
        "dtm_add.read_input_stepwise('#EEEEE+EE#')"
      ]
    },
    {
      "cell_type": "markdown",
      "metadata": {},
      "source": [
        "O método/função `read_input(palavra)` verifica se a _palavra_ é aceita pela Máquina de Turing e retorna a configuração final para ela."
      ]
    },
    {
      "cell_type": "code",
      "execution_count": 32,
      "metadata": {},
      "outputs": [
        {
          "name": "stdout",
          "output_type": "stream",
          "text": [
            "ha: #EEEEEEE##\n",
            "            ^\n"
          ]
        }
      ],
      "source": [
        "\n",
        "dtm_add.read_input('#EEEEE+EE#').print()"
      ]
    },
    {
      "cell_type": "code",
      "execution_count": 33,
      "metadata": {},
      "outputs": [
        {
          "name": "stdout",
          "output_type": "stream",
          "text": [
            "accepted\n"
          ]
        }
      ],
      "source": [
        "if dtm_add.accepts_input('#EEEEE+EE#'):\n",
        "    print('accepted')\n",
        "else:\n",
        "    print('rejected')"
      ]
    },
    {
      "cell_type": "code",
      "execution_count": 34,
      "metadata": {},
      "outputs": [
        {
          "data": {
            "text/plain": [
              "<generator object DTM.read_input_stepwise at 0x0000012FB87A2110>"
            ]
          },
          "execution_count": 34,
          "metadata": {},
          "output_type": "execute_result"
        }
      ],
      "source": [
        "dtm_add.read_input_stepwise('#EEEEE+EE#')"
      ]
    },
    {
      "cell_type": "code",
      "execution_count": 36,
      "metadata": {},
      "outputs": [
        {
          "name": "stdout",
          "output_type": "stream",
          "text": [
            "Verificando palavra: #E+E#\n",
            "aceita\n",
            "ha: #EE##\n",
            "       ^\n",
            "Verificando palavra: #E+EE#\n",
            "aceita\n",
            "ha: #EEE##\n",
            "        ^\n",
            "Verificando palavra: #EEEEE+EE#\n",
            "aceita\n",
            "ha: #EEEEEEE##\n",
            "            ^\n"
          ]
        }
      ],
      "source": [
        "palavras = ['#E+E#','#E+EE#','#EEEEE+EE#']\n",
        "\n",
        "for w in palavras:\n",
        "  print(\"Verificando palavra:\", w)\n",
        "  if dtm_add.accepts_input(w):\n",
        "    print('aceita')\n",
        "  else:\n",
        "    print('rejeitada')\n",
        "  dtm_add.read_input(w).print()\n"
      ]
    },
    {
      "cell_type": "markdown",
      "metadata": {},
      "source": [
        "## Subtração\n",
        "\n",
        "Este tópico trata-se da operação de subtração, este autômato aceita uma fita com a seguinte configuração, \"#EEEEE-EE#\", ele esta programado para receber uma quantidade de letras 'E's, onde esta quantidade representa um número inteiro. Para que uma operação de subtração seja validada com este autômato, a quantidade de argumentos (letras 'E') da fita a ser recebida deve estar entre cerquilhas - estas representam os limites direito e esquerdo da fita, respectivamente - e também para que a operação funcione, os argumentos devem estar separados pelo operador de subtração, por exemplo, \"EE-E\", onde esta operação numéricamente equivale a \"2-1\" e resultará em \"1\", ou como saída da fita depois da computação: \"#E#\".##E###"
      ]
    },
    {
      "cell_type": "markdown",
      "metadata": {},
      "source": [
        "![Subtração](figuras/Subtração.png)\n",
        "\n",
        "__Figura 2__: Máquina de Turing que faz Subtração"
      ]
    },
    {
      "cell_type": "markdown",
      "metadata": {},
      "source": [
        "O seguinte código do autômato, foi implementado em Python:"
      ]
    },
    {
      "cell_type": "code",
      "execution_count": 4,
      "metadata": {},
      "outputs": [],
      "source": [
        "from automata.tm.dtm import DTM\n",
        "\n",
        "dtm_sub = DTM(\n",
        "  states={\"q0\", \"q1\", \"q2\", \"q3\", \"q4\", \"q5\", \"q6\", \"q7\", \"q8\", \"ha\"},\n",
        "  input_symbols={\"E\", \"-\"},\n",
        "  tape_symbols={\"E\", \"#\", \"-\"},\n",
        "  transitions={\n",
        "    \"q0\": {\n",
        "      \"#\": (\"q1\", \"#\", \"R\")\n",
        "    },\n",
        "    \"q1\": {\n",
        "      \"E\": (\"q2\", \"#\", \"R\")\n",
        "    },\n",
        "    \"q2\": {\n",
        "      \"E\": (\"q2\", \"E\", \"R\"),\n",
        "      \"-\": (\"q3\", \"-\", \"R\")\n",
        "    },\n",
        "    \"q3\": {\n",
        "      \"E\": (\"q3\", \"E\", \"R\"),\n",
        "      \"#\": (\"q4\", \"#\", \"L\")\n",
        "    },\n",
        "    \"q4\": {\n",
        "      \"E\": (\"q5\", \"#\", \"L\")\n",
        "    },\n",
        "    \"q5\": {\n",
        "      \"E\": (\"q6\", \"E\", \"L\"),\n",
        "      \"-\": (\"ha\", \"#\", \"N\")\n",
        "    },\n",
        "    \"q6\": {\n",
        "      \"E\": (\"q6\", \"E\", \"L\"),\n",
        "      \"-\": (\"q7\", \"-\", \"L\")\n",
        "    },\n",
        "    \"q7\": {\n",
        "      \"E\": (\"q8\", \"E\", \"L\"),\n",
        "      \"#\": (\"ha\", \"#\", \"N\")\n",
        "    },\n",
        "    \"q8\": {\n",
        "      \"E\": (\"q8\", \"E\", \"L\"),\n",
        "      \"#\": (\"q1\", \"#\", \"R\")\n",
        "    }\n",
        "  },\n",
        "  initial_state=\"q0\",\n",
        "  blank_symbol=\"#\",\n",
        "  final_states={\"ha\"}\n",
        ")\n"
      ]
    },
    {
      "cell_type": "markdown",
      "metadata": {},
      "source": [
        "Função de Validação para verificar se a especificação está correta."
      ]
    },
    {
      "cell_type": "code",
      "execution_count": 5,
      "metadata": {},
      "outputs": [
        {
          "data": {
            "text/plain": [
              "True"
            ]
          },
          "execution_count": 5,
          "metadata": {},
          "output_type": "execute_result"
        }
      ],
      "source": [
        "dtm_sub.validate()  # returns True"
      ]
    },
    {
      "cell_type": "code",
      "execution_count": 6,
      "metadata": {},
      "outputs": [
        {
          "data": {
            "text/plain": [
              "<generator object DTM.read_input_stepwise at 0x0000012FB6B66E30>"
            ]
          },
          "execution_count": 6,
          "metadata": {},
          "output_type": "execute_result"
        }
      ],
      "source": [
        "dtm_sub.read_input_stepwise('#EEEEE-EE#')"
      ]
    },
    {
      "cell_type": "markdown",
      "metadata": {},
      "source": [
        "O método/função `read_input(palavra)` verifica se a _palavra_ é aceita pela Máquina de Turing e retorna a configuração final para ela."
      ]
    },
    {
      "cell_type": "code",
      "execution_count": 9,
      "metadata": {},
      "outputs": [
        {
          "name": "stdout",
          "output_type": "stream",
          "text": [
            "ha: ###EEE####\n",
            "          ^\n"
          ]
        }
      ],
      "source": [
        "dtm_sub.read_input('#EEEEE-EE#').print()"
      ]
    },
    {
      "cell_type": "code",
      "execution_count": 11,
      "metadata": {},
      "outputs": [
        {
          "name": "stdout",
          "output_type": "stream",
          "text": [
            "accepted\n"
          ]
        }
      ],
      "source": [
        "if dtm_sub.accepts_input('#EEEEE-EE#'):\n",
        "    print('accepted')\n",
        "else:\n",
        "    print('rejected')"
      ]
    },
    {
      "cell_type": "code",
      "execution_count": 15,
      "metadata": {},
      "outputs": [
        {
          "name": "stdout",
          "output_type": "stream",
          "text": [
            "Verificando palavra: #E-E#\n",
            "aceita\n",
            "ha: #####\n",
            "      ^\n",
            "Verificando palavra: #E-EE#\n",
            "aceita\n",
            "ha: ##-E##\n",
            "     ^\n",
            "Verificando palavra: #EEEEE-EE#\n",
            "aceita\n",
            "ha: ###EEE####\n",
            "          ^\n"
          ]
        }
      ],
      "source": [
        "palavras = ['#E-E#','#E-EE#','#EEEEE-EE#']\n",
        "\n",
        "for w in palavras:\n",
        "  print(\"Verificando palavra:\", w)\n",
        "  if dtm_sub.accepts_input(w):\n",
        "    print('aceita')\n",
        "  else:\n",
        "    print('rejeitada')\n",
        "  dtm_sub.read_input(w).print()\n"
      ]
    },
    {
      "cell_type": "markdown",
      "metadata": {},
      "source": [
        "## Multiplicação\n",
        "\n",
        "Este tópico trata-se da operação de multiplicação, este autômato aceita uma fita com a seguinte configuração, \"#11111\\*11#\", ele esta programado para receber uma quantidade de números '1's, onde esta quantidade representa um número inteiro. Para que uma operação de multiplicação seja validada com este autômato, a quantidade de argumentos (números '1') da fita a ser recebida deve estar entre cerquilhas - estas representam os limites direito e esquerdo da fita, respectivamente - e também para que a operação funcione, os argumentos devem estar separados pelo operador de multiplicação, por exemplo, \"11\\*1\", onde esta operação numéricamente equivale a \"2*1\" e resultará em \"2\", ou como saída da fita depois da computação: \"##11###\".\n",
        "\n",
        "![Multiplicação](figuras/Multiplicação.png)\n",
        "\n",
        "__Figura 3:__: Máquina de Turing que faz Multiplicação"
      ]
    },
    {
      "cell_type": "markdown",
      "metadata": {},
      "source": [
        "O seguinte código do autômato, foi implementado em Python:"
      ]
    },
    {
      "cell_type": "code",
      "execution_count": 1,
      "metadata": {},
      "outputs": [],
      "source": [
        "from automata.tm.dtm import DTM\n",
        "\n",
        "dtm_mult = DTM(\n",
        "  states={\"q0\", \"q1\", \"q2\", \"q3\", \"q4\", \"q5\", \"q6\", \"q7\", \"q8\", \"q9\", \"q10\", \"ha\"},\n",
        "  input_symbols={\"1\", \"*\"},\n",
        "  tape_symbols={\"E\", \"Z\", \"#\", \"*\", \"1\"},\n",
        "  transitions={\n",
        "    \"q0\": {\n",
        "      \"#\": (\"q1\", \"#\", \"R\")\n",
        "    },\n",
        "    \"q1\": {\n",
        "      \"1\": (\"q2\", \"#\", \"R\")\n",
        "    },\n",
        "    \"q2\": {\n",
        "      \"*\": (\"q3\", \"1\", \"R\"),\n",
        "      \"1\": (\"q5\", \"1\", \"R\")\n",
        "    },\n",
        "    \"q3\": {\n",
        "      \"Z\": (\"q3\", \"1\", \"R\"),\n",
        "      \"1\": (\"q3\", \"1\", \"R\"),\n",
        "      \"#\": (\"q4\", \"#\", \"L\")\n",
        "    },\n",
        "    \"q4\": {\n",
        "      \"1\": (\"ha\", \"#\", \"N\")\n",
        "    },\n",
        "    \"q5\": {\n",
        "      \"1\": (\"q5\", \"1\", \"R\"),\n",
        "      \"*\": (\"q6\", \"*\", \"R\")\n",
        "    },\n",
        "    \"q6\": {\n",
        "      \"1\": (\"q7\", \"E\", \"R\"),\n",
        "      \"Z\": (\"q9\", \"Z\", \"L\")\n",
        "    },\n",
        "    \"q7\": {\n",
        "      \"Z\": (\"q7\", \"Z\", \"R\"),\n",
        "      \"1\": (\"q7\", \"1\", \"R\"),\n",
        "      \"#\": (\"q8\", \"Z\", \"L\")\n",
        "    },\n",
        "    \"q8\": {\n",
        "      \"1\": (\"q8\", \"1\", \"L\"),\n",
        "      \"Z\": (\"q8\", \"Z\", \"L\"),\n",
        "      \"E\": (\"q6\", \"E\", \"R\"),\n",
        "    },\n",
        "    \"q9\": {\n",
        "      \"E\": (\"q9\", \"1\", \"L\"),\n",
        "      \"*\": (\"q10\", \"*\", \"L\")\n",
        "    },\n",
        "    \"q10\": {\n",
        "      \"1\": (\"q10\", \"1\", \"L\"),\n",
        "      \"#\": (\"q1\", \"#\", \"R\")\n",
        "    }\n",
        "  },\n",
        "  initial_state=\"q0\",\n",
        "  blank_symbol=\"#\",\n",
        "  final_states={\"ha\"}\n",
        ")\n"
      ]
    },
    {
      "cell_type": "code",
      "execution_count": 2,
      "metadata": {},
      "outputs": [
        {
          "data": {
            "text/plain": [
              "True"
            ]
          },
          "execution_count": 2,
          "metadata": {},
          "output_type": "execute_result"
        }
      ],
      "source": [
        "dtm_mult.validate()  # returns True"
      ]
    },
    {
      "cell_type": "code",
      "execution_count": 6,
      "metadata": {},
      "outputs": [
        {
          "data": {
            "text/plain": [
              "<generator object DTM.read_input_stepwise at 0x000001CEFB9D4350>"
            ]
          },
          "execution_count": 6,
          "metadata": {},
          "output_type": "execute_result"
        }
      ],
      "source": [
        "dtm_mult.read_input_stepwise('#11111*11#')"
      ]
    },
    {
      "cell_type": "markdown",
      "metadata": {},
      "source": [
        "O método/função `read_input(palavra)` verifica se a _palavra_ é aceita pela Máquina de Turing e retorna a configuração final para ela."
      ]
    },
    {
      "cell_type": "code",
      "execution_count": 7,
      "metadata": {},
      "outputs": [
        {
          "name": "stdout",
          "output_type": "stream",
          "text": [
            "ha: ######1111111111##\n",
            "                    ^\n"
          ]
        }
      ],
      "source": [
        "dtm_mult.read_input('#11111*11#').print()"
      ]
    },
    {
      "cell_type": "code",
      "execution_count": 11,
      "metadata": {},
      "outputs": [
        {
          "name": "stdout",
          "output_type": "stream",
          "text": [
            "accepted\n"
          ]
        }
      ],
      "source": [
        "if dtm_mult.accepts_input('#11111*11#'):\n",
        "    print('accepted')\n",
        "else:\n",
        "    print('rejected')"
      ]
    },
    {
      "cell_type": "code",
      "execution_count": 13,
      "metadata": {},
      "outputs": [
        {
          "name": "stdout",
          "output_type": "stream",
          "text": [
            "Verificando palavra: #1*1#\n",
            "aceita\n",
            "ha: ##1##\n",
            "       ^\n",
            "Verificando palavra: #1*11#\n",
            "aceita\n",
            "ha: ##11##\n",
            "        ^\n",
            "Verificando palavra: #11111*11#\n",
            "aceita\n",
            "ha: ######1111111111##\n",
            "                    ^\n"
          ]
        }
      ],
      "source": [
        "palavras = ['#1*1#','#1*11#','#11111*11#']\n",
        "\n",
        "for w in palavras:\n",
        "  print(\"Verificando palavra:\", w)\n",
        "  if dtm_mult.accepts_input(w):\n",
        "    print('aceita')\n",
        "  else:\n",
        "    print('rejeitada')\n",
        "  dtm_mult.read_input(w).print()\n"
      ]
    },
    {
      "cell_type": "markdown",
      "metadata": {},
      "source": [
        "## Divisão\n",
        "\n",
        "Temos o seguinte autômato implementado no JFLAP para a resolução da operação de divisão:\n",
        "\n",
        "![Divisão](figuras/Divisão.png)\n",
        "\n",
        "Para que seja possível executar a operação com tal máquina, temos que a fita deve estar no seguinte formato: \"#1/1#####\", onde a operação deve iniciar com uma cerquilha e termiar com quatro, além disso divisões que resultam em ponto flutuante não são reconhecidas por esta máquina."
      ]
    },
    {
      "cell_type": "markdown",
      "metadata": {},
      "source": [
        "Implementando o autômato em python temos o seguinte código:"
      ]
    },
    {
      "cell_type": "code",
      "execution_count": 17,
      "metadata": {},
      "outputs": [],
      "source": [
        "from automata.tm.dtm import DTM\n",
        "\n",
        "dtm_div = DTM(\n",
        "  states={\"q0\", \"q1\", \"q2\", \"q3\", \"q4\", \"q5\", \"q6\", \"q7\", \"q8\", \"q9\", \"ha\"},\n",
        "  input_symbols={\"1\", \"/\"},\n",
        "  tape_symbols={\"E\", \"Z\", \"#\", \"/\", \"1\"},\n",
        "  transitions={\n",
        "    \"q0\": {\n",
        "      \"#\": (\"q1\", \"#\", \"R\")\n",
        "    },\n",
        "    \"q1\": {\n",
        "      \"1\": (\"q2\", \"#\", \"R\"),\n",
        "      \"/\": (\"q9\", \"#\", \"R\")\n",
        "    },\n",
        "    \"q2\": {\n",
        "      \"1\": (\"q2\", \"1\", \"R\"),\n",
        "      \"/\": (\"q3\", \"/\", \"R\")\n",
        "    },\n",
        "    \"q3\": {\n",
        "      \"1\": (\"q3\", \"1\", \"R\"),\n",
        "      \"E\": (\"q3\", \"E\", \"R\"),\n",
        "      \"#\": (\"q4\", \"#\", \"L\"),\n",
        "      \"Z\": (\"q4\", \"Z\", \"L\")\n",
        "    },\n",
        "    \"q4\": {\n",
        "      \"E\": (\"q4\", \"E\", \"L\"),\n",
        "      \"1\": (\"q5\", \"E\", \"L\")\n",
        "    },\n",
        "    \"q5\": {\n",
        "      \"1\": (\"q7\", \"1\", \"L\"),\n",
        "      \"/\": (\"q6\", \"/\", \"R\")\n",
        "    },\n",
        "    \"q6\": {\n",
        "      \"E\": (\"q6\", \"1\", \"R\"),\n",
        "      \"Z\": (\"q6\", \"Z\", \"R\"),\n",
        "      \"#\": (\"q7\", \"Z\", \"L\")\n",
        "    },\n",
        "    \"q7\": {\n",
        "      \"Z\": (\"q7\", \"Z\", \"L\"),\n",
        "      \"1\": (\"q7\", \"1\", \"L\"),\n",
        "      \"/\": (\"q8\", \"/\", \"L\")\n",
        "    },\n",
        "    \"q8\": {\n",
        "      \"1\": (\"q8\", \"1\", \"L\"),\n",
        "      \"#\": (\"q1\", \"#\", \"R\")\n",
        "    },\n",
        "    \"q9\": {\n",
        "      \"Z\": (\"q9\", \"1\", \"R\"),\n",
        "      \"1\": (\"q9\", \"#\", \"R\"),\n",
        "      \"#\": (\"ha\", \"#\", \"N\")\n",
        "    }\n",
        "  },\n",
        "  initial_state=\"q0\",\n",
        "  blank_symbol=\"#\",\n",
        "  final_states={\"ha\"}\n",
        ")"
      ]
    },
    {
      "cell_type": "markdown",
      "metadata": {},
      "source": [
        "Função de Validação para verificar se a especificação está correta."
      ]
    },
    {
      "cell_type": "code",
      "execution_count": 18,
      "metadata": {},
      "outputs": [
        {
          "data": {
            "text/plain": [
              "True"
            ]
          },
          "execution_count": 18,
          "metadata": {},
          "output_type": "execute_result"
        }
      ],
      "source": [
        "dtm_div.validate()  # returns True"
      ]
    },
    {
      "cell_type": "code",
      "execution_count": 19,
      "metadata": {},
      "outputs": [
        {
          "data": {
            "text/plain": [
              "<generator object DTM.read_input_stepwise at 0x0000012FB87A0F90>"
            ]
          },
          "execution_count": 19,
          "metadata": {},
          "output_type": "execute_result"
        }
      ],
      "source": [
        "dtm_div.read_input_stepwise('#\"#111111/11####')"
      ]
    },
    {
      "cell_type": "markdown",
      "metadata": {},
      "source": [
        "O método/função `read_input(palavra)` verifica se a _palavra_ é aceita pela Máquina de Turing e retorna a configuração final para ela."
      ]
    },
    {
      "cell_type": "code",
      "execution_count": null,
      "metadata": {},
      "outputs": [],
      "source": [
        "dtm_div.read_input(\"#111111/11####\").print() #Este exemplo faz a divisão de 6 por 2, resultando na saida 3"
      ]
    },
    {
      "cell_type": "code",
      "execution_count": 21,
      "metadata": {},
      "outputs": [
        {
          "name": "stdout",
          "output_type": "stream",
          "text": [
            "accepted\n"
          ]
        }
      ],
      "source": [
        "if dtm_div.accepts_input('#111111/11####'):\n",
        "    print('accepted')\n",
        "else:\n",
        "    print('rejected')"
      ]
    },
    {
      "cell_type": "code",
      "execution_count": 22,
      "metadata": {},
      "outputs": [
        {
          "name": "stdout",
          "output_type": "stream",
          "text": [
            "Verificando palavra: #111111/11####\n",
            "aceita\n",
            "ha: ##########111#\n",
            "                 ^\n",
            "Verificando palavra: #1111111111/11####\n",
            "aceita\n",
            "ha: ##############11111#\n",
            "                       ^\n",
            "Verificando palavra: #1111/1111####\n",
            "aceita\n",
            "ha: ##########1###\n",
            "               ^\n"
          ]
        }
      ],
      "source": [
        "palavras = ['#111111/11####','#1111111111/11####','#1111/1111####']\n",
        "\n",
        "for w in palavras:\n",
        "  print(\"Verificando palavra:\", w)\n",
        "  if dtm_div.accepts_input(w):\n",
        "    print('aceita')\n",
        "  else:\n",
        "    print('rejeitada')\n",
        "  dtm_div.read_input(w).print()"
      ]
    },
    {
      "cell_type": "markdown",
      "metadata": {
        "id": "3eyzSr_yKUO6"
      },
      "source": [
        "## Referências\n",
        "\n",
        "SIPSER, M. __Introdução à teoria da computação.__ São Paulo: Cengage Learning, 2007. ISBN 9788522104994. Disponível em: https://search.ebscohost.com/login.aspx?direct=true&db=edsmib&AN=edsmib.000008725&lang=pt-br&site=eds-live&scope=site. Acesso em: 2 jun. 2022.\n",
        "\n",
        "MENEZES, P. B. __Linguagens formais e autômatos.__ Porto Alegre: Bookman, 2011. ISBN 9788577807994. Disponível em: https://search.ebscohost.com/login.aspx?direct=true&db=edsmib&AN=edsmib.000000444&lang=pt-br&site=eds-live&scope=site. Acesso em: 2 jun. 2022."
      ]
    }
  ],
  "metadata": {
    "colab": {
      "collapsed_sections": [],
      "include_colab_link": true,
      "name": "00-comp-introducao.ipynb",
      "provenance": [],
      "toc_visible": true
    },
    "kernelspec": {
      "display_name": "Python 3.10.4 64-bit",
      "language": "python",
      "name": "python3"
    },
    "language_info": {
      "codemirror_mode": {
        "name": "ipython",
        "version": 3
      },
      "file_extension": ".py",
      "mimetype": "text/x-python",
      "name": "python",
      "nbconvert_exporter": "python",
      "pygments_lexer": "ipython3",
      "version": "3.10.4"
    },
    "vscode": {
      "interpreter": {
        "hash": "8a75c5acdb02823ae2b7de390757249baf1f1f86b16ac38346664794401c638b"
      }
    }
  },
  "nbformat": 4,
  "nbformat_minor": 0
}
