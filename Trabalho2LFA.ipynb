{
 "cells": [
  {
   "cell_type": "markdown",
   "metadata": {},
   "source": [
    "Este trabalho tem como objetivo implementar quatro Máquinas de Turing, cada uma realizando uma operação aritmética básica, as operações necessárias que este projeto solicitava eram de adição, subtração, divisão e múltiplicação. Para a construção deste autômato, foi utilizada a linguagem de programação Python, e junto dela, uma biblioteca que trabalha com vários tipos de automatos, denominada de automata-lib. Foram usados alguns diagramas de estado, construídos com a ferramenta JFLAP para o auxilio da construção do mesmo."
   ]
  },
  {
   "cell_type": "markdown",
   "metadata": {},
   "source": [
    "Começando pela máquina de adição, temos o seguinte autômato implementado no JFLAP:\n"
   ]
  },
  {
   "cell_type": "markdown",
   "metadata": {},
   "source": [
    "<img src = \"Adição.png\">"
   ]
  },
  {
   "cell_type": "markdown",
   "metadata": {},
   "source": [
    "Implementação em python:"
   ]
  },
  {
   "cell_type": "code",
   "execution_count": 4,
   "metadata": {},
   "outputs": [],
   "source": [
    "from automata.tm.dtm import DTM\n",
    "\n",
    "dtm_add = DTM(\n",
    "  states={\"q0\", \"q1\", \"q2\", \"q3\", \"ha\"},\n",
    "  input_symbols={\"E\", \"+\"},\n",
    "  tape_symbols={\"E\", \"#\", \"+\"},\n",
    "  transitions={\n",
    "    \"q0\": {\n",
    "      \"#\": (\"q1\", \"#\", \"R\")\n",
    "    },\n",
    "    \"q1\": {\n",
    "      \"E\": (\"q1\", \"E\", \"R\"),\n",
    "      \"+\": (\"q2\", \"E\", \"R\")\n",
    "    },\n",
    "    \"q2\": {\n",
    "      \"E\": (\"q2\", \"E\", \"R\"),\n",
    "      \"#\": (\"q3\", \"#\", \"L\")\n",
    "    },\n",
    "    \"q3\": {\n",
    "      \"E\": (\"ha\", \"#\", \"N\")\n",
    "    }\n",
    "  },\n",
    "  initial_state=\"q0\",\n",
    "  blank_symbol=\"#\",\n",
    "  final_states={\"ha\"}\n",
    ")\n"
   ]
  },
  {
   "cell_type": "markdown",
   "metadata": {},
   "source": [
    "Para que seja possível executar a operação com tal máquina, temos que a fita deve estar no seguinte formato: \"#E+E#\", onde a operação deve-se encontrar entre uma cerquilha. Para ilustrarmos temos os seguintes exemplos:"
   ]
  },
  {
   "cell_type": "code",
   "execution_count": 22,
   "metadata": {},
   "outputs": [
    {
     "name": "stdout",
     "output_type": "stream",
     "text": [
      "ha: #EEEE##\n",
      "         ^\n",
      "ha: #EEEEEEE##\n",
      "            ^\n",
      "ha: #EEEEEEE##\n",
      "            ^\n"
     ]
    }
   ],
   "source": [
    "dtm_add.read_input(\"#EE+EE#\").print() # Este exemplo faz a soma de 2 + 2, resultando na saida 4 \n",
    "dtm_add.read_input(\"#EEEEE+EE#\").print() # Este exemplo faz a soma de 5 + 2, resultando na saida 4 \n",
    "dtm_add.read_input(\"#EEEE+EEE#\").print() # Este exemplo faz a soma de 4 + 3, resultando na saida 4 "
   ]
  },
  {
   "cell_type": "markdown",
   "metadata": {},
   "source": [
    "A segunda máquina trata da operação de divisão e temos o seguinte autômato implementado no JFLAP:"
   ]
  },
  {
   "cell_type": "markdown",
   "metadata": {},
   "source": [
    "<img src = \"Divisão.png\">"
   ]
  },
  {
   "cell_type": "markdown",
   "metadata": {},
   "source": [
    "Implementação em python:"
   ]
  },
  {
   "cell_type": "code",
   "execution_count": 10,
   "metadata": {},
   "outputs": [],
   "source": [
    "from automata.tm.dtm import DTM\n",
    "\n",
    "dtm_div = DTM(\n",
    "  states={\"q0\", \"q1\", \"q2\", \"q3\", \"q4\", \"q5\", \"q6\", \"q7\", \"q8\", \"q9\", \"ha\"},\n",
    "  input_symbols={\"1\", \"/\"},\n",
    "  tape_symbols={\"E\", \"Z\", \"#\", \"/\", \"1\"},\n",
    "  transitions={\n",
    "    \"q0\": {\n",
    "      \"#\": (\"q1\", \"#\", \"R\")\n",
    "    },\n",
    "    \"q1\": {\n",
    "      \"1\": (\"q2\", \"#\", \"R\"),\n",
    "      \"/\": (\"q9\", \"#\", \"R\")\n",
    "    },\n",
    "    \"q2\": {\n",
    "      \"1\": (\"q2\", \"1\", \"R\"),\n",
    "      \"/\": (\"q3\", \"/\", \"R\")\n",
    "    },\n",
    "    \"q3\": {\n",
    "      \"1\": (\"q3\", \"1\", \"R\"),\n",
    "      \"E\": (\"q3\", \"E\", \"R\"),\n",
    "      \"#\": (\"q4\", \"#\", \"L\"),\n",
    "      \"Z\": (\"q4\", \"Z\", \"L\")\n",
    "    },\n",
    "    \"q4\": {\n",
    "      \"E\": (\"q4\", \"E\", \"L\"),\n",
    "      \"1\": (\"q5\", \"E\", \"L\")\n",
    "    },\n",
    "    \"q5\": {\n",
    "      \"1\": (\"q7\", \"1\", \"L\"),\n",
    "      \"/\": (\"q6\", \"/\", \"R\")\n",
    "    },\n",
    "    \"q6\": {\n",
    "      \"E\": (\"q6\", \"1\", \"R\"),\n",
    "      \"Z\": (\"q6\", \"Z\", \"R\"),\n",
    "      \"#\": (\"q7\", \"Z\", \"L\")\n",
    "    },\n",
    "    \"q7\": {\n",
    "      \"Z\": (\"q7\", \"Z\", \"L\"),\n",
    "      \"1\": (\"q7\", \"1\", \"L\"),\n",
    "      \"/\": (\"q8\", \"/\", \"L\")\n",
    "    },\n",
    "    \"q8\": {\n",
    "      \"1\": (\"q8\", \"1\", \"L\"),\n",
    "      \"#\": (\"q1\", \"#\", \"R\")\n",
    "    },\n",
    "    \"q9\": {\n",
    "      \"Z\": (\"q9\", \"1\", \"R\"),\n",
    "      \"1\": (\"q9\", \"#\", \"R\"),\n",
    "      \"#\": (\"ha\", \"#\", \"N\")\n",
    "    }\n",
    "  },\n",
    "  initial_state=\"q0\",\n",
    "  blank_symbol=\"#\",\n",
    "  final_states={\"ha\"}\n",
    ")\n"
   ]
  },
  {
   "cell_type": "markdown",
   "metadata": {},
   "source": [
    "Para que seja possível executar a operação com tal máquina, temos que a fita deve estar no seguinte formato: \"#1/1#####\", onde a operação deve iniciar com uma cerquilha e termiar com quatro, além disso divisões que resultam em ponto flutuante não são reconhecidas por esta máquina. Para ilustrarmos temos os seguintes exemplos:"
   ]
  },
  {
   "cell_type": "code",
   "execution_count": 11,
   "metadata": {},
   "outputs": [
    {
     "name": "stdout",
     "output_type": "stream",
     "text": [
      "ha: ##########111#\n",
      "                 ^\n",
      "ha: ##############11111#\n",
      "                       ^\n",
      "ha: ##########1###\n",
      "               ^\n",
      "ha: ######\n",
      "      ^\n"
     ]
    }
   ],
   "source": [
    "dtm_div.read_input(\"#111111/11####\").print() #Este exemplo faz a divisão de 6 por 2, resultando na saida 3\n",
    "dtm_div.read_input(\"#1111111111/11####\").print() #Este exemplo faz a divisão de 10 por 2, resultando na saida 5\n",
    "dtm_div.read_input(\"#1111/1111####\").print() #Este exemplo faz a divisão de 4 por 4, resultando na saida 1"
   ]
  },
  {
   "cell_type": "markdown",
   "metadata": {},
   "source": [
    "A terceira máquina trata da operação de multiplicação e temos a seguinte implementação do autômato no JFLAP:"
   ]
  },
  {
   "cell_type": "markdown",
   "metadata": {},
   "source": [
    "<img src = \"Multiplicação.png\">"
   ]
  },
  {
   "cell_type": "markdown",
   "metadata": {},
   "source": [
    "Implementação em python:"
   ]
  },
  {
   "cell_type": "code",
   "execution_count": 13,
   "metadata": {},
   "outputs": [],
   "source": [
    "from automata.tm.dtm import DTM\n",
    "\n",
    "dtm_mult = DTM(\n",
    "  states={\"q0\", \"q1\", \"q2\", \"q3\", \"q4\", \"q5\", \"q6\", \"q7\", \"q8\", \"q9\", \"q10\", \"ha\"},\n",
    "  input_symbols={\"1\", \"*\"},\n",
    "  tape_symbols={\"E\", \"Z\", \"#\", \"*\", \"1\"},\n",
    "  transitions={\n",
    "    \"q0\": {\n",
    "      \"#\": (\"q1\", \"#\", \"R\")\n",
    "    },\n",
    "    \"q1\": {\n",
    "      \"1\": (\"q2\", \"#\", \"R\")\n",
    "    },\n",
    "    \"q2\": {\n",
    "      \"*\": (\"q3\", \"1\", \"R\"),\n",
    "      \"1\": (\"q5\", \"1\", \"R\")\n",
    "    },\n",
    "    \"q3\": {\n",
    "      \"Z\": (\"q3\", \"1\", \"R\"),\n",
    "      \"1\": (\"q3\", \"1\", \"R\"),\n",
    "      \"#\": (\"q4\", \"#\", \"L\")\n",
    "    },\n",
    "    \"q4\": {\n",
    "      \"1\": (\"ha\", \"#\", \"N\")\n",
    "    },\n",
    "    \"q5\": {\n",
    "      \"1\": (\"q5\", \"1\", \"R\"),\n",
    "      \"*\": (\"q6\", \"*\", \"R\")\n",
    "    },\n",
    "    \"q6\": {\n",
    "      \"1\": (\"q7\", \"E\", \"R\"),\n",
    "      \"Z\": (\"q9\", \"Z\", \"L\")\n",
    "    },\n",
    "    \"q7\": {\n",
    "      \"Z\": (\"q7\", \"Z\", \"R\"),\n",
    "      \"1\": (\"q7\", \"1\", \"R\"),\n",
    "      \"#\": (\"q8\", \"Z\", \"L\")\n",
    "    },\n",
    "    \"q8\": {\n",
    "      \"1\": (\"q8\", \"1\", \"L\"),\n",
    "      \"Z\": (\"q8\", \"Z\", \"L\"),\n",
    "      \"E\": (\"q6\", \"E\", \"R\"),\n",
    "    },\n",
    "    \"q9\": {\n",
    "      \"E\": (\"q9\", \"1\", \"L\"),\n",
    "      \"*\": (\"q10\", \"*\", \"L\")\n",
    "    },\n",
    "    \"q10\": {\n",
    "      \"1\": (\"q10\", \"1\", \"L\"),\n",
    "      \"#\": (\"q1\", \"#\", \"R\")\n",
    "    }\n",
    "  },\n",
    "  initial_state=\"q0\",\n",
    "  blank_symbol=\"#\",\n",
    "  final_states={\"ha\"}\n",
    ")\n"
   ]
  },
  {
   "cell_type": "markdown",
   "metadata": {},
   "source": [
    "Para que seja possível executar a operação com tal máquina, temos que a fita deve estar no seguinte formato: \"#1*1#####\", onde a operação deve iniciar com uma cerquilha e termiar com quatro. Para ilustrarmos temos os seguintes exemplos:"
   ]
  },
  {
   "cell_type": "code",
   "execution_count": 15,
   "metadata": {},
   "outputs": [
    {
     "name": "stdout",
     "output_type": "stream",
     "text": [
      "ha: ###111111##\n",
      "             ^\n",
      "ha: ####111111111##\n",
      "                 ^\n",
      "ha: ###11111111##\n",
      "               ^\n"
     ]
    }
   ],
   "source": [
    "dtm_mult.read_input(\"#11*111####\").print() #Este exemplo faz a multiplocação de 2 por 3, resultando na saida 6\n",
    "dtm_mult.read_input(\"#111*111####\").print() #Este exemplo faz a multiplocação de 3 por 3, resultando na saida 9\n",
    "dtm_mult.read_input(\"#11*1111####\").print() #Este exemplo faz a multiplocação de 2 por 4, resultando na saida 6"
   ]
  },
  {
   "cell_type": "markdown",
   "metadata": {},
   "source": [
    "Por fim, a quarta máquina é responsável pela operação de subtração e temos o seguinte autômato implementado no JFLAP:"
   ]
  },
  {
   "cell_type": "markdown",
   "metadata": {},
   "source": [
    "<img src = \"Subtração.png\">"
   ]
  },
  {
   "cell_type": "markdown",
   "metadata": {},
   "source": [
    "Implementação em python:"
   ]
  },
  {
   "cell_type": "code",
   "execution_count": 16,
   "metadata": {},
   "outputs": [],
   "source": [
    "from automata.tm.dtm import DTM\n",
    "\n",
    "dtm_sub = DTM(\n",
    "  states={\"q0\", \"q1\", \"q2\", \"q3\", \"q4\", \"q5\", \"q6\", \"q7\", \"q8\", \"ha\"},\n",
    "  input_symbols={\"E\", \"-\"},\n",
    "  tape_symbols={\"E\", \"#\", \"-\"},\n",
    "  transitions={\n",
    "    \"q0\": {\n",
    "      \"#\": (\"q1\", \"#\", \"R\")\n",
    "    },\n",
    "    \"q1\": {\n",
    "      \"E\": (\"q2\", \"#\", \"R\")\n",
    "    },\n",
    "    \"q2\": {\n",
    "      \"E\": (\"q2\", \"E\", \"R\"),\n",
    "      \"-\": (\"q3\", \"-\", \"R\")\n",
    "    },\n",
    "    \"q3\": {\n",
    "      \"E\": (\"q3\", \"E\", \"R\"),\n",
    "      \"#\": (\"q4\", \"#\", \"L\")\n",
    "    },\n",
    "    \"q4\": {\n",
    "      \"E\": (\"q5\", \"#\", \"L\")\n",
    "    },\n",
    "    \"q5\": {\n",
    "      \"E\": (\"q6\", \"E\", \"L\"),\n",
    "      \"-\": (\"ha\", \"#\", \"N\")\n",
    "    },\n",
    "    \"q6\": {\n",
    "      \"E\": (\"q6\", \"E\", \"L\"),\n",
    "      \"-\": (\"q7\", \"-\", \"L\")\n",
    "    },\n",
    "    \"q7\": {\n",
    "      \"E\": (\"q8\", \"E\", \"L\"),\n",
    "      \"#\": (\"ha\", \"#\", \"N\")\n",
    "    },\n",
    "    \"q8\": {\n",
    "      \"E\": (\"q8\", \"E\", \"L\"),\n",
    "      \"#\": (\"q1\", \"#\", \"R\")\n",
    "    }\n",
    "  },\n",
    "  initial_state=\"q0\",\n",
    "  blank_symbol=\"#\",\n",
    "  final_states={\"ha\"}\n",
    ")\n"
   ]
  },
  {
   "cell_type": "markdown",
   "metadata": {},
   "source": [
    "Para que seja possível executar a operação com tal máquina, temos que a fita deve estar no seguinte formato: \"#E-E#\", onde a operação deve estar entre uma cerquilha. Para ilustrarmos temos os seguintes exemplos:"
   ]
  },
  {
   "cell_type": "code",
   "execution_count": 17,
   "metadata": {},
   "outputs": [
    {
     "name": "stdout",
     "output_type": "stream",
     "text": [
      "ha: #######\n",
      "       ^\n",
      "ha: ###EE####\n",
      "         ^\n",
      "ha: ####EE#####\n",
      "          ^\n",
      "ha: ##-EE##\n",
      "     ^\n"
     ]
    }
   ],
   "source": [
    "dtm_sub.read_input(\"#EE-EE#\").print() #Este exemplo faz a subtração de 2 por 2, resultando na saida 0\n",
    "dtm_sub.read_input(\"#EEEE-EE#\").print() #Este exemplo faz a subtração de 4 por 2, resultando na saida 2 \n",
    "dtm_sub.read_input(\"#EEEEE-EEE#\").print() #Este exemplo faz a subtração de 5 por 3, resultando na saida 2\n",
    "dtm_sub.read_input(\"#E-EEE#\").print() #Este exemplo faz a subtração de 1 por 3, resultando na saida -2"
   ]
  }
 ],
 "metadata": {
  "kernelspec": {
   "display_name": "Python 3.10.5 64-bit",
   "language": "python",
   "name": "python3"
  },
  "language_info": {
   "codemirror_mode": {
    "name": "ipython",
    "version": 3
   },
   "file_extension": ".py",
   "mimetype": "text/x-python",
   "name": "python",
   "nbconvert_exporter": "python",
   "pygments_lexer": "ipython3",
   "version": "3.10.5"
  },
  "orig_nbformat": 4,
  "vscode": {
   "interpreter": {
    "hash": "369f2c481f4da34e4445cda3fffd2e751bd1c4d706f27375911949ba6bb62e1c"
   }
  }
 },
 "nbformat": 4,
 "nbformat_minor": 2
}
